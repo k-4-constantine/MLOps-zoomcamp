{
 "cells": [
  {
   "cell_type": "code",
   "execution_count": 59,
   "id": "b2bd82d7",
   "metadata": {},
   "outputs": [
    {
     "name": "stdout",
     "output_type": "stream",
     "text": [
      "Python 3.10.18\n"
     ]
    }
   ],
   "source": [
    "!python -V"
   ]
  },
  {
   "cell_type": "code",
   "execution_count": 60,
   "id": "4add538c",
   "metadata": {},
   "outputs": [],
   "source": [
    "import pandas as pd\n",
    "import pickle\n",
    "import seaborn as sns\n",
    "import matplotlib.pyplot as plt"
   ]
  },
  {
   "cell_type": "code",
   "execution_count": 61,
   "id": "8b135c2b",
   "metadata": {},
   "outputs": [],
   "source": [
    "from sklearn.feature_extraction import DictVectorizer\n",
    "from sklearn.linear_model import LinearRegression\n",
    "from sklearn.linear_model import Lasso\n",
    "from sklearn.linear_model import Ridge\n",
    "\n",
    "from sklearn.metrics import root_mean_squared_error"
   ]
  },
  {
   "cell_type": "code",
   "execution_count": 62,
   "id": "63931e97",
   "metadata": {},
   "outputs": [
    {
     "data": {
      "text/plain": [
       "<Experiment: artifact_location='/workspaces/MLOps-zoomcamp/02-experiment-tracking/mlruns/2', creation_time=1759671388532, experiment_id='2', last_update_time=1759671388532, lifecycle_stage='active', name='nyc-taxi-experiment', tags={'mlflow.experimentKind': 'custom_model_development'}>"
      ]
     },
     "execution_count": 62,
     "metadata": {},
     "output_type": "execute_result"
    }
   ],
   "source": [
    "import mlflow\n",
    "\n",
    "mlflow.set_tracking_uri(\"sqlite:///mlflow.db\")\n",
    "mlflow.set_experiment(\"nyc-taxi-experiment\")"
   ]
  },
  {
   "cell_type": "code",
   "execution_count": null,
   "id": "c7c117dd",
   "metadata": {},
   "outputs": [],
   "source": [
    "# cd /workspaces/MLOps-zoomcamp/02-experiment-tracking\n",
    "# mlflow ui --backend-store-uri sqlite:///mlflow.db"
   ]
  },
  {
   "cell_type": "code",
   "execution_count": 64,
   "id": "f9e6479e",
   "metadata": {},
   "outputs": [],
   "source": [
    "def read_dataframe(filename):\n",
    "    if filename.endswith('.csv'):\n",
    "        df = pd.read_csv(filename)\n",
    "\n",
    "        df.lpep_dropoff_datetime = pd.to_datetime(df.lpep_dropoff_datetime)\n",
    "        df.lpep_pickup_datetime = pd.to_datetime(df.lpep_pickup_datetime)\n",
    "    elif filename.endswith('.parquet'):\n",
    "        df = pd.read_parquet(filename)\n",
    "\n",
    "    df['duration'] = df.lpep_dropoff_datetime - df.lpep_pickup_datetime\n",
    "    df.duration = df.duration.apply(lambda td: td.total_seconds() / 60)\n",
    "\n",
    "    df = df[(df.duration >= 1) & (df.duration <= 60)]\n",
    "\n",
    "    categorical = ['PULocationID', 'DOLocationID']\n",
    "    df[categorical] = df[categorical].astype(str)\n",
    "    \n",
    "    return df"
   ]
  },
  {
   "cell_type": "code",
   "execution_count": 65,
   "id": "8029eba0",
   "metadata": {},
   "outputs": [],
   "source": [
    "df_train = read_dataframe('./data/green_tripdata_2021-01.parquet')\n",
    "df_val = read_dataframe('./data/green_tripdata_2021-02.parquet')"
   ]
  },
  {
   "cell_type": "code",
   "execution_count": 66,
   "id": "f6f2f0eb",
   "metadata": {},
   "outputs": [
    {
     "data": {
      "text/plain": [
       "(73908, 61921)"
      ]
     },
     "execution_count": 66,
     "metadata": {},
     "output_type": "execute_result"
    }
   ],
   "source": [
    "len(df_train), len(df_val)"
   ]
  },
  {
   "cell_type": "code",
   "execution_count": 67,
   "id": "951d51ef",
   "metadata": {},
   "outputs": [],
   "source": [
    "df_train['PU_DO'] = df_train['PULocationID'] + '_' + df_train['DOLocationID']\n",
    "df_val['PU_DO'] = df_val['PULocationID'] + '_' + df_val['DOLocationID']"
   ]
  },
  {
   "cell_type": "code",
   "execution_count": 68,
   "id": "c5cbfc25",
   "metadata": {},
   "outputs": [],
   "source": [
    "categorical = ['PU_DO'] #'PULocationID', 'DOLocationID']\n",
    "numerical = ['trip_distance']\n",
    "\n",
    "dv = DictVectorizer()\n",
    "\n",
    "train_dicts = df_train[categorical + numerical].to_dict(orient='records')\n",
    "X_train = dv.fit_transform(train_dicts)\n",
    "\n",
    "val_dicts = df_val[categorical + numerical].to_dict(orient='records')\n",
    "X_val = dv.transform(val_dicts)"
   ]
  },
  {
   "cell_type": "code",
   "execution_count": 69,
   "id": "1e9fb68b",
   "metadata": {},
   "outputs": [],
   "source": [
    "target = 'duration'\n",
    "y_train = df_train[target].values\n",
    "y_val = df_val[target].values"
   ]
  },
  {
   "cell_type": "code",
   "execution_count": 70,
   "id": "429e2394",
   "metadata": {},
   "outputs": [
    {
     "data": {
      "text/plain": [
       "7.758715208009878"
      ]
     },
     "execution_count": 70,
     "metadata": {},
     "output_type": "execute_result"
    }
   ],
   "source": [
    "lr = LinearRegression()\n",
    "lr.fit(X_train, y_train)\n",
    "\n",
    "y_pred = lr.predict(X_val)\n",
    "\n",
    "root_mean_squared_error(y_val, y_pred)"
   ]
  },
  {
   "cell_type": "code",
   "execution_count": 71,
   "id": "22bf6f8b",
   "metadata": {},
   "outputs": [],
   "source": [
    "with open('models/lin_reg.bin', 'wb') as f_out:\n",
    "    pickle.dump((dv, lr), f_out)"
   ]
  },
  {
   "cell_type": "code",
   "execution_count": 72,
   "id": "a4999b94",
   "metadata": {},
   "outputs": [],
   "source": [
    "with mlflow.start_run():\n",
    "    mlflow.set_tag(\"developer\", \"kai\")\n",
    "\n",
    "    mlflow.log_param(\"train-data-path\", \"./data/green_tripdata_2021-01.parquet\")\n",
    "    mlflow.log_param(\"valid-data-path\", \"./data/green_tripdata_2021-02.parquet\")\n",
    "\n",
    "    alpha = 0.01\n",
    "    mlflow.log_param(\"alpha\", alpha)\n",
    "\n",
    "    lr = Lasso(alpha)\n",
    "    lr.fit(X_train, y_train)\n",
    "\n",
    "    y_pred = lr.predict(X_val)\n",
    "\n",
    "    rmse = root_mean_squared_error(y_val, y_pred)\n",
    "    mlflow.log_metric(\"rmse\", rmse)\n",
    "\n",
    "    mlflow.log_artifact(local_path=\"models/lin_reg.bin\", artifact_path=\"models_pickle\")"
   ]
  },
  {
   "cell_type": "code",
   "execution_count": 73,
   "id": "60af209f",
   "metadata": {},
   "outputs": [],
   "source": [
    "import xgboost as xgb\n",
    "\n",
    "from hyperopt import fmin, tpe, hp, STATUS_OK, Trials\n",
    "from hyperopt.pyll import scope\n",
    "from sklearn.metrics import mean_squared_error"
   ]
  },
  {
   "cell_type": "code",
   "execution_count": 74,
   "id": "d0382ebd",
   "metadata": {},
   "outputs": [],
   "source": [
    "train = xgb.DMatrix(X_train, label=y_train)\n",
    "valid = xgb.DMatrix(X_val, label=y_val)"
   ]
  },
  {
   "cell_type": "code",
   "execution_count": 75,
   "id": "d9a57b00",
   "metadata": {},
   "outputs": [],
   "source": [
    "def objective(params):\n",
    "    with mlflow.start_run():\n",
    "        mlflow.set_tag(\"model\", \"xgboost\")\n",
    "        for key, value in params.items():\n",
    "            mlflow.log_param(key, value)\n",
    "\n",
    "        booster = xgb.train(\n",
    "            params=params,\n",
    "            dtrain=train,\n",
    "            num_boost_round=1000,\n",
    "            evals=[(valid,\"validation\")],\n",
    "            early_stopping_rounds=50\n",
    "        )\n",
    "        \n",
    "        y_pred = booster.predict(valid)\n",
    "        rmse=root_mean_squared_error(y_val, y_pred)\n",
    "        mlflow.log_metric(\"rmse\", rmse)\n",
    "\n",
    "        return {'loss': rmse, 'status': STATUS_OK}\n"
   ]
  },
  {
   "cell_type": "code",
   "execution_count": 76,
   "id": "856e06b8",
   "metadata": {},
   "outputs": [],
   "source": [
    "# search_space = {\n",
    "#     'max_depth': scope.int(hp.quniform('max_depth', 4, 100, 1)),\n",
    "#     'learning_rate': hp.loguniform('learning_rate', -3, 0),\n",
    "#     'reg_alpha': hp.loguniform('reg_alpha', -5, -1),\n",
    "#     'reg_lambda': hp.loguniform('reg_lambda', -6, -1),\n",
    "#     'min_child_weight': hp.loguniform('min_child_weight', -1, 3),\n",
    "#     'objective': 'reg:linear',\n",
    "#     'seed' : 42,\n",
    "# }\n",
    "\n",
    "# best_result = fmin(\n",
    "#     fn = objective,\n",
    "#     space = search_space,\n",
    "#     algo = tpe.suggest,\n",
    "#     max_evals = 50,\n",
    "#     trials = Trials()\n",
    "# )"
   ]
  },
  {
   "cell_type": "code",
   "execution_count": 77,
   "id": "a8a3a29e",
   "metadata": {},
   "outputs": [
    {
     "name": "stderr",
     "output_type": "stream",
     "text": [
      "/opt/conda/envs/exp-tracking-env/lib/python3.10/site-packages/xgboost/callback.py:386: UserWarning: [10:26:05] WARNING: /workspace/src/objective/regression_obj.cu:245: reg:linear is now deprecated in favor of reg:squarederror.\n",
      "  self.starting_round = model.num_boosted_rounds()\n"
     ]
    },
    {
     "name": "stdout",
     "output_type": "stream",
     "text": [
      "[0]\tvalidation-rmse:7.68673\n",
      "[1]\tvalidation-rmse:6.80080\n",
      "[2]\tvalidation-rmse:6.61920\n",
      "[3]\tvalidation-rmse:6.56535\n",
      "[4]\tvalidation-rmse:6.54529\n",
      "[5]\tvalidation-rmse:6.53359\n",
      "[6]\tvalidation-rmse:6.52515\n",
      "[7]\tvalidation-rmse:6.51729\n",
      "[8]\tvalidation-rmse:6.50822\n",
      "[9]\tvalidation-rmse:6.50276\n",
      "[10]\tvalidation-rmse:6.49784\n",
      "[11]\tvalidation-rmse:6.49200\n",
      "[12]\tvalidation-rmse:6.48839\n",
      "[13]\tvalidation-rmse:6.48429\n",
      "[14]\tvalidation-rmse:6.47899\n",
      "[15]\tvalidation-rmse:6.47637\n",
      "[16]\tvalidation-rmse:6.47158\n",
      "[17]\tvalidation-rmse:6.46852\n",
      "[18]\tvalidation-rmse:6.46433\n",
      "[19]\tvalidation-rmse:6.45951\n",
      "[20]\tvalidation-rmse:6.45500\n",
      "[21]\tvalidation-rmse:6.45297\n",
      "[22]\tvalidation-rmse:6.45133\n",
      "[23]\tvalidation-rmse:6.44966\n",
      "[24]\tvalidation-rmse:6.44733\n",
      "[25]\tvalidation-rmse:6.44487\n",
      "[26]\tvalidation-rmse:6.44334\n",
      "[27]\tvalidation-rmse:6.43968\n",
      "[28]\tvalidation-rmse:6.43791\n",
      "[29]\tvalidation-rmse:6.43641\n",
      "[30]\tvalidation-rmse:6.43542\n",
      "[31]\tvalidation-rmse:6.43180\n",
      "[32]\tvalidation-rmse:6.42937\n",
      "[33]\tvalidation-rmse:6.42771\n",
      "[34]\tvalidation-rmse:6.42574\n",
      "[35]\tvalidation-rmse:6.42411\n",
      "[36]\tvalidation-rmse:6.42259\n",
      "[37]\tvalidation-rmse:6.41921\n",
      "[38]\tvalidation-rmse:6.41577\n",
      "[39]\tvalidation-rmse:6.41377\n",
      "[40]\tvalidation-rmse:6.41410\n",
      "[41]\tvalidation-rmse:6.41403\n",
      "[42]\tvalidation-rmse:6.41308\n",
      "[43]\tvalidation-rmse:6.41194\n",
      "[44]\tvalidation-rmse:6.41055\n",
      "[45]\tvalidation-rmse:6.40920\n",
      "[46]\tvalidation-rmse:6.40929\n",
      "[47]\tvalidation-rmse:6.40886\n",
      "[48]\tvalidation-rmse:6.40790\n",
      "[49]\tvalidation-rmse:6.40669\n",
      "[50]\tvalidation-rmse:6.40656\n",
      "[51]\tvalidation-rmse:6.40647\n",
      "[52]\tvalidation-rmse:6.40382\n",
      "[53]\tvalidation-rmse:6.40307\n",
      "[54]\tvalidation-rmse:6.40192\n",
      "[55]\tvalidation-rmse:6.39817\n",
      "[56]\tvalidation-rmse:6.39909\n",
      "[57]\tvalidation-rmse:6.39896\n",
      "[58]\tvalidation-rmse:6.39775\n",
      "[59]\tvalidation-rmse:6.39697\n",
      "[60]\tvalidation-rmse:6.39607\n",
      "[61]\tvalidation-rmse:6.39563\n",
      "[62]\tvalidation-rmse:6.39451\n",
      "[63]\tvalidation-rmse:6.39380\n",
      "[64]\tvalidation-rmse:6.39464\n",
      "[65]\tvalidation-rmse:6.39370\n",
      "[66]\tvalidation-rmse:6.39313\n",
      "[67]\tvalidation-rmse:6.39210\n",
      "[68]\tvalidation-rmse:6.39177\n",
      "[69]\tvalidation-rmse:6.39282\n",
      "[70]\tvalidation-rmse:6.39226\n",
      "[71]\tvalidation-rmse:6.39179\n",
      "[72]\tvalidation-rmse:6.39057\n",
      "[73]\tvalidation-rmse:6.39020\n",
      "[74]\tvalidation-rmse:6.39037\n",
      "[75]\tvalidation-rmse:6.39023\n",
      "[76]\tvalidation-rmse:6.38866\n",
      "[77]\tvalidation-rmse:6.38957\n",
      "[78]\tvalidation-rmse:6.38849\n",
      "[79]\tvalidation-rmse:6.38860\n",
      "[80]\tvalidation-rmse:6.38680\n",
      "[81]\tvalidation-rmse:6.38642\n",
      "[82]\tvalidation-rmse:6.38655\n",
      "[83]\tvalidation-rmse:6.38581\n",
      "[84]\tvalidation-rmse:6.38611\n",
      "[85]\tvalidation-rmse:6.38609\n",
      "[86]\tvalidation-rmse:6.38517\n",
      "[87]\tvalidation-rmse:6.38466\n",
      "[88]\tvalidation-rmse:6.38536\n",
      "[89]\tvalidation-rmse:6.38535\n",
      "[90]\tvalidation-rmse:6.38533\n",
      "[91]\tvalidation-rmse:6.38524\n",
      "[92]\tvalidation-rmse:6.38583\n",
      "[93]\tvalidation-rmse:6.38480\n",
      "[94]\tvalidation-rmse:6.38421\n",
      "[95]\tvalidation-rmse:6.38291\n",
      "[96]\tvalidation-rmse:6.38302\n",
      "[97]\tvalidation-rmse:6.38239\n",
      "[98]\tvalidation-rmse:6.38219\n",
      "[99]\tvalidation-rmse:6.38216\n",
      "[100]\tvalidation-rmse:6.38268\n",
      "[101]\tvalidation-rmse:6.38232\n",
      "[102]\tvalidation-rmse:6.38343\n",
      "[103]\tvalidation-rmse:6.38330\n",
      "[104]\tvalidation-rmse:6.38448\n",
      "[105]\tvalidation-rmse:6.38365\n",
      "[106]\tvalidation-rmse:6.38508\n",
      "[107]\tvalidation-rmse:6.38535\n",
      "[108]\tvalidation-rmse:6.38485\n",
      "[109]\tvalidation-rmse:6.38547\n",
      "[110]\tvalidation-rmse:6.38579\n",
      "[111]\tvalidation-rmse:6.38536\n",
      "[112]\tvalidation-rmse:6.38540\n",
      "[113]\tvalidation-rmse:6.38464\n",
      "[114]\tvalidation-rmse:6.38451\n",
      "[115]\tvalidation-rmse:6.38412\n",
      "[116]\tvalidation-rmse:6.38288\n",
      "[117]\tvalidation-rmse:6.38340\n",
      "[118]\tvalidation-rmse:6.38347\n",
      "[119]\tvalidation-rmse:6.38295\n",
      "[120]\tvalidation-rmse:6.38341\n",
      "[121]\tvalidation-rmse:6.38279\n",
      "[122]\tvalidation-rmse:6.38291\n",
      "[123]\tvalidation-rmse:6.38242\n",
      "[124]\tvalidation-rmse:6.38224\n",
      "[125]\tvalidation-rmse:6.38189\n",
      "[126]\tvalidation-rmse:6.38150\n",
      "[127]\tvalidation-rmse:6.38184\n",
      "[128]\tvalidation-rmse:6.38115\n",
      "[129]\tvalidation-rmse:6.38037\n",
      "[130]\tvalidation-rmse:6.37992\n",
      "[131]\tvalidation-rmse:6.38005\n",
      "[132]\tvalidation-rmse:6.38030\n",
      "[133]\tvalidation-rmse:6.38053\n",
      "[134]\tvalidation-rmse:6.38024\n",
      "[135]\tvalidation-rmse:6.38008\n",
      "[136]\tvalidation-rmse:6.38009\n",
      "[137]\tvalidation-rmse:6.38005\n",
      "[138]\tvalidation-rmse:6.38019\n",
      "[139]\tvalidation-rmse:6.38036\n",
      "[140]\tvalidation-rmse:6.38010\n",
      "[141]\tvalidation-rmse:6.37832\n",
      "[142]\tvalidation-rmse:6.37860\n",
      "[143]\tvalidation-rmse:6.37886\n",
      "[144]\tvalidation-rmse:6.37932\n",
      "[145]\tvalidation-rmse:6.37932\n",
      "[146]\tvalidation-rmse:6.37901\n",
      "[147]\tvalidation-rmse:6.37861\n",
      "[148]\tvalidation-rmse:6.37841\n",
      "[149]\tvalidation-rmse:6.37806\n",
      "[150]\tvalidation-rmse:6.37864\n",
      "[151]\tvalidation-rmse:6.37880\n",
      "[152]\tvalidation-rmse:6.37871\n",
      "[153]\tvalidation-rmse:6.37859\n",
      "[154]\tvalidation-rmse:6.37853\n",
      "[155]\tvalidation-rmse:6.37894\n",
      "[156]\tvalidation-rmse:6.37836\n",
      "[157]\tvalidation-rmse:6.37872\n",
      "[158]\tvalidation-rmse:6.37881\n",
      "[159]\tvalidation-rmse:6.37862\n",
      "[160]\tvalidation-rmse:6.37902\n",
      "[161]\tvalidation-rmse:6.37870\n",
      "[162]\tvalidation-rmse:6.37863\n",
      "[163]\tvalidation-rmse:6.37814\n",
      "[164]\tvalidation-rmse:6.37842\n",
      "[165]\tvalidation-rmse:6.37820\n",
      "[166]\tvalidation-rmse:6.37848\n",
      "[167]\tvalidation-rmse:6.37875\n",
      "[168]\tvalidation-rmse:6.37927\n",
      "[169]\tvalidation-rmse:6.37963\n",
      "[170]\tvalidation-rmse:6.37924\n",
      "[171]\tvalidation-rmse:6.37855\n",
      "[172]\tvalidation-rmse:6.37842\n",
      "[173]\tvalidation-rmse:6.37814\n",
      "[174]\tvalidation-rmse:6.37753\n",
      "[175]\tvalidation-rmse:6.37724\n",
      "[176]\tvalidation-rmse:6.37730\n",
      "[177]\tvalidation-rmse:6.37751\n",
      "[178]\tvalidation-rmse:6.37768\n",
      "[179]\tvalidation-rmse:6.37785\n",
      "[180]\tvalidation-rmse:6.37865\n",
      "[181]\tvalidation-rmse:6.37903\n",
      "[182]\tvalidation-rmse:6.37906\n",
      "[183]\tvalidation-rmse:6.37891\n",
      "[184]\tvalidation-rmse:6.37885\n",
      "[185]\tvalidation-rmse:6.37985\n",
      "[186]\tvalidation-rmse:6.38064\n",
      "[187]\tvalidation-rmse:6.38028\n",
      "[188]\tvalidation-rmse:6.38087\n",
      "[189]\tvalidation-rmse:6.38130\n",
      "[190]\tvalidation-rmse:6.38145\n",
      "[191]\tvalidation-rmse:6.38161\n",
      "[192]\tvalidation-rmse:6.38095\n",
      "[193]\tvalidation-rmse:6.38072\n",
      "[194]\tvalidation-rmse:6.38022\n",
      "[195]\tvalidation-rmse:6.37992\n",
      "[196]\tvalidation-rmse:6.38088\n",
      "[197]\tvalidation-rmse:6.38153\n",
      "[198]\tvalidation-rmse:6.38124\n",
      "[199]\tvalidation-rmse:6.38151\n",
      "[200]\tvalidation-rmse:6.38184\n",
      "[201]\tvalidation-rmse:6.38190\n",
      "[202]\tvalidation-rmse:6.38168\n",
      "[203]\tvalidation-rmse:6.38123\n",
      "[204]\tvalidation-rmse:6.38075\n",
      "[205]\tvalidation-rmse:6.38075\n",
      "[206]\tvalidation-rmse:6.38077\n",
      "[207]\tvalidation-rmse:6.38047\n",
      "[208]\tvalidation-rmse:6.38037\n",
      "[209]\tvalidation-rmse:6.38014\n",
      "[210]\tvalidation-rmse:6.38000\n",
      "[211]\tvalidation-rmse:6.38000\n",
      "[212]\tvalidation-rmse:6.37970\n",
      "[213]\tvalidation-rmse:6.37954\n",
      "[214]\tvalidation-rmse:6.37941\n",
      "[215]\tvalidation-rmse:6.37947\n",
      "[216]\tvalidation-rmse:6.37948\n",
      "[217]\tvalidation-rmse:6.37937\n",
      "[218]\tvalidation-rmse:6.37920\n",
      "[219]\tvalidation-rmse:6.38002\n",
      "[220]\tvalidation-rmse:6.37985\n",
      "[221]\tvalidation-rmse:6.37893\n",
      "[222]\tvalidation-rmse:6.37961\n",
      "[223]\tvalidation-rmse:6.37939\n",
      "[224]\tvalidation-rmse:6.37934\n",
      "[225]\tvalidation-rmse:6.37933\n"
     ]
    },
    {
     "name": "stderr",
     "output_type": "stream",
     "text": [
      "2025/10/07 10:26:45 WARNING mlflow.models.model: `artifact_path` is deprecated. Please use `name` instead.\n",
      "/opt/conda/envs/exp-tracking-env/lib/python3.10/site-packages/mlflow/xgboost/__init__.py:169: UserWarning: [10:26:45] WARNING: /workspace/src/c_api/c_api.cc:1427: Saving model in the UBJSON format as default.  You can use file extension: `json`, `ubj` or `deprecated` to choose between formats.\n",
      "  xgb_model.save_model(model_data_path)\n",
      "\u001b[31m2025/10/07 10:26:47 WARNING mlflow.models.model: Model logged without a signature and input example. Please set `input_example` parameter when logging the model to auto infer the model signature.\u001b[0m\n"
     ]
    },
    {
     "data": {
      "text/plain": [
       "<mlflow.models.model.ModelInfo at 0x7535135bca60>"
      ]
     },
     "execution_count": 77,
     "metadata": {},
     "output_type": "execute_result"
    }
   ],
   "source": [
    "best_params = {\n",
    "    'learning_rate':0.6545973055915408,\n",
    "    'max_depth':33,\n",
    "    'min_child_weight':3.3858551804076,\n",
    "    'objective':'reg:linear',\n",
    "    'reg_alpha':0.29589767192164507,\n",
    "    'reg_lambda': 0.0579918889780704,\n",
    "    'seed':42\n",
    "}\n",
    "\n",
    "mlflow.log_params(best_params)\n",
    " \n",
    "booster = xgb.train(\n",
    "            params=best_params,\n",
    "            dtrain=train,\n",
    "            num_boost_round=1000,\n",
    "            evals=[(valid,\"validation\")],\n",
    "            early_stopping_rounds=50\n",
    "        )\n",
    "\n",
    "y_pred = booster.predict(valid)\n",
    "rmse = root_mean_squared_error(y_val, y_pred)\n",
    "mlflow.log_metric(\"rmse\", rmse)\n",
    "\n",
    "mlflow.xgboost.log_model(booster, artifact_path=\"models_mlflow\")"
   ]
  },
  {
   "cell_type": "code",
   "execution_count": 78,
   "id": "6727a47c",
   "metadata": {},
   "outputs": [
    {
     "name": "stdout",
     "output_type": "stream",
     "text": [
      "sqlite:///mlflow.db\n",
      "<Experiment: artifact_location='/workspaces/MLOps-zoomcamp/02-experiment-tracking/mlruns/2', creation_time=1759671388532, experiment_id='2', last_update_time=1759671388532, lifecycle_stage='active', name='nyc-taxi-experiment', tags={'mlflow.experimentKind': 'custom_model_development'}>\n"
     ]
    }
   ],
   "source": [
    "import mlflow\n",
    "print(mlflow.get_tracking_uri())\n",
    "print(mlflow.get_experiment_by_name(\"nyc-taxi-experiment\"))\n"
   ]
  },
  {
   "cell_type": "code",
   "execution_count": 79,
   "id": "7814d6aa",
   "metadata": {},
   "outputs": [
    {
     "name": "stdout",
     "output_type": "stream",
     "text": [
      "Active run: <ActiveRun: >\n"
     ]
    }
   ],
   "source": [
    "import mlflow\n",
    "print(\"Active run:\", mlflow.active_run())\n"
   ]
  },
  {
   "cell_type": "code",
   "execution_count": 80,
   "id": "7711df14",
   "metadata": {},
   "outputs": [],
   "source": [
    "# with mlflow.start_run():\n",
    "    "
   ]
  }
 ],
 "metadata": {
  "kernelspec": {
   "display_name": "exp-tracking-env",
   "language": "python",
   "name": "python3"
  },
  "language_info": {
   "codemirror_mode": {
    "name": "ipython",
    "version": 3
   },
   "file_extension": ".py",
   "mimetype": "text/x-python",
   "name": "python",
   "nbconvert_exporter": "python",
   "pygments_lexer": "ipython3",
   "version": "3.10.18"
  }
 },
 "nbformat": 4,
 "nbformat_minor": 5
}
